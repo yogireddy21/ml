{
 "cells": [
  {
   "cell_type": "code",
   "execution_count": 10,
   "metadata": {},
   "outputs": [
    {
     "name": "stderr",
     "output_type": "stream",
     "text": [
      "C:\\Users\\yoges\\AppData\\Local\\Packages\\PythonSoftwareFoundation.Python.3.10_qbz5n2kfra8p0\\LocalCache\\local-packages\\Python310\\site-packages\\sklearn\\ensemble\\_base.py:166: FutureWarning: `base_estimator` was renamed to `estimator` in version 1.2 and will be removed in 1.4.\n",
      "  warnings.warn(\n",
      "C:\\Users\\yoges\\AppData\\Local\\Packages\\PythonSoftwareFoundation.Python.3.10_qbz5n2kfra8p0\\LocalCache\\local-packages\\Python310\\site-packages\\sklearn\\ensemble\\_base.py:166: FutureWarning: `base_estimator` was renamed to `estimator` in version 1.2 and will be removed in 1.4.\n",
      "  warnings.warn(\n"
     ]
    },
    {
     "name": "stdout",
     "output_type": "stream",
     "text": [
      "Decision Tree Metrics:\n",
      "Accuracy: 0.8375\n",
      "Precision: 0.8363731656184488\n",
      "Recall: 0.8375\n",
      "F1-Score: 0.8367965367965369\n",
      "\n",
      "Random Forest Metrics:\n",
      "Accuracy: 0.9\n",
      "Precision: 0.9072916666666668\n",
      "Recall: 0.9\n",
      "F1-Score: 0.9013333333333332\n",
      "\n",
      "Bagging Classifier Metrics:\n",
      "Accuracy: 0.8625\n",
      "Precision: 0.8616002795248079\n",
      "Recall: 0.8625\n",
      "F1-Score: 0.8619047619047621\n",
      "\n",
      "AdaBoost Classifier Metrics:\n",
      "Accuracy: 0.825\n",
      "Precision: 0.822934472934473\n",
      "Recall: 0.825\n",
      "F1-Score: 0.8234102026554858\n",
      "\n",
      "Voting Classifier Metrics:\n",
      "Accuracy: 0.8125\n",
      "Precision: 0.8096363636363636\n",
      "Recall: 0.8125\n",
      "F1-Score: 0.8098219008993123\n",
      "\n"
     ]
    },
    {
     "name": "stderr",
     "output_type": "stream",
     "text": [
      "C:\\Users\\yoges\\AppData\\Local\\Packages\\PythonSoftwareFoundation.Python.3.10_qbz5n2kfra8p0\\LocalCache\\local-packages\\Python310\\site-packages\\sklearn\\ensemble\\_base.py:166: FutureWarning: `base_estimator` was renamed to `estimator` in version 1.2 and will be removed in 1.4.\n",
      "  warnings.warn(\n",
      "C:\\Users\\yoges\\AppData\\Local\\Packages\\PythonSoftwareFoundation.Python.3.10_qbz5n2kfra8p0\\LocalCache\\local-packages\\Python310\\site-packages\\sklearn\\ensemble\\_base.py:166: FutureWarning: `base_estimator` was renamed to `estimator` in version 1.2 and will be removed in 1.4.\n",
      "  warnings.warn(\n"
     ]
    }
   ],
   "source": [
    "import pandas as pd\n",
    "from sklearn.model_selection import train_test_split\n",
    "from sklearn.tree import DecisionTreeClassifier\n",
    "from sklearn.ensemble import RandomForestClassifier, BaggingClassifier, AdaBoostClassifier, VotingClassifier\n",
    "from sklearn.metrics import accuracy_score, precision_recall_fscore_support\n",
    "\n",
    "# Load the dataset\n",
    "data = pd.read_csv('data2.csv')\n",
    "\n",
    "# Assuming your dataset has features and a 'label' column indicating the class\n",
    "X = data.iloc[:, :-1].values\n",
    "y = data.iloc[:, -1].values\n",
    "\n",
    "# Split the data into training and testing sets\n",
    "X_train, X_test, y_train, y_test = train_test_split(X, y, test_size=0.2, random_state=42)\n",
    "\n",
    "# Dictionary to store metrics\n",
    "metrics_dict = {}\n",
    "\n",
    "# Function to calculate metrics and store them in the dictionary\n",
    "def calculate_metrics(model_name, y_true, y_pred):\n",
    "    accuracy = accuracy_score(y_true, y_pred)\n",
    "    precision, recall, f1, _ = precision_recall_fscore_support(y_true, y_pred, average='weighted')\n",
    "    metrics_dict[model_name] = {\n",
    "        'Accuracy': accuracy,\n",
    "        'Precision': precision,\n",
    "        'Recall': recall,\n",
    "        'F1-Score': f1\n",
    "    }\n",
    "\n",
    "# Build a Decision Tree Classifier\n",
    "decision_tree = DecisionTreeClassifier()\n",
    "decision_tree.fit(X_train, y_train)\n",
    "dt_predictions = decision_tree.predict(X_test)\n",
    "calculate_metrics('Decision Tree', y_test, dt_predictions)\n",
    "\n",
    "# Build a Random Forest Classifier\n",
    "random_forest = RandomForestClassifier()\n",
    "random_forest.fit(X_train, y_train)\n",
    "rf_predictions = random_forest.predict(X_test)\n",
    "calculate_metrics('Random Forest', y_test, rf_predictions)\n",
    "\n",
    "# Build a Bagging Classifier\n",
    "bagging_classifier = BaggingClassifier(base_estimator=DecisionTreeClassifier(), n_estimators=10)\n",
    "bagging_classifier.fit(X_train, y_train)\n",
    "bagging_predictions = bagging_classifier.predict(X_test)\n",
    "calculate_metrics('Bagging Classifier', y_test, bagging_predictions)\n",
    "\n",
    "# Build an AdaBoost Classifier\n",
    "adaboost_classifier = AdaBoostClassifier(base_estimator=DecisionTreeClassifier(), n_estimators=50)\n",
    "adaboost_classifier.fit(X_train, y_train)\n",
    "adaboost_predictions = adaboost_classifier.predict(X_test)\n",
    "calculate_metrics('AdaBoost Classifier', y_test, adaboost_predictions)\n",
    "\n",
    "# Build a Voting Classifier\n",
    "voting_classifier = VotingClassifier(estimators=[('dt', decision_tree), ('rf', random_forest), ('bagging', bagging_classifier), ('adaboost', adaboost_classifier)])\n",
    "voting_classifier.fit(X_train, y_train)\n",
    "voting_predictions = voting_classifier.predict(X_test)\n",
    "calculate_metrics('Voting Classifier', y_test, voting_predictions)\n",
    "\n",
    "# Print metrics at the end\n",
    "for model_name, metrics in metrics_dict.items():\n",
    "    print(f'{model_name} Metrics:')\n",
    "    for metric_name, value in metrics.items():\n",
    "        print(f'{metric_name}: {value}')\n",
    "    print()\n"
   ]
  }
 ],
 "metadata": {
  "kernelspec": {
   "display_name": "Python 3",
   "language": "python",
   "name": "python3"
  },
  "language_info": {
   "codemirror_mode": {
    "name": "ipython",
    "version": 3
   },
   "file_extension": ".py",
   "mimetype": "text/x-python",
   "name": "python",
   "nbconvert_exporter": "python",
   "pygments_lexer": "ipython3",
   "version": "3.10.11"
  }
 },
 "nbformat": 4,
 "nbformat_minor": 2
}
